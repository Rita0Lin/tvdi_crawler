{
 "cells": [
  {
   "cell_type": "markdown",
   "id": "3473e618",
   "metadata": {},
   "source": [
    "### python基礎練習\n"
   ]
  },
  {
   "cell_type": "markdown",
   "id": "1940c950",
   "metadata": {},
   "source": [
    "print(\"HELLO!PYTHON!\")\n",
    "\n"
   ]
  },
  {
   "cell_type": "code",
   "execution_count": 1,
   "id": "4061de9b",
   "metadata": {},
   "outputs": [
    {
     "name": "stdout",
     "output_type": "stream",
     "text": [
      "\n",
      "哈囉，！很高興認識你！\n",
      "你今年大約 89 歲。\n",
      "你是成年人了，加油！💪\n",
      "祝你有美好的一天 😊\n"
     ]
    }
   ],
   "source": [
    "name = input(\"請輸入你的名字：\")\n",
    "current_year = int(input(\"請輸入現在的年份：\"))\n",
    "birth_year = int(input(\"請輸入你的出生年份：\"))\n",
    "\n",
    "# 2. 計算年齡\n",
    "age = current_year - birth_year\n",
    "\n",
    "# 3. 顯示問候語與年齡\n",
    "print(\"\\n哈囉，\" + name + \"！很高興認識你！\")\n",
    "print(\"你今年大約 \" + str(age) + \" 歲。\")\n",
    "\n",
    "# 4. 判斷成年與否\n",
    "if age < 18:\n",
    "    print(\"你還是未成年喔，記得要好好唸書！📚\")\n",
    "else:\n",
    "    print(\"你是成年人了，加油！💪\")\n",
    "\n",
    "# 5. 結尾\n",
    "print(\"祝你有美好的一天 😊\")"
   ]
  },
  {
   "cell_type": "code",
   "execution_count": 2,
   "id": "8aa2d7cd",
   "metadata": {},
   "outputs": [
    {
     "name": "stdout",
     "output_type": "stream",
     "text": [
      "77°F = 25.0°C\n"
     ]
    }
   ],
   "source": [
    "fahrenheit = 77\n",
    "celsius = (fahrenheit - 32) * 5/9\n",
    "print(f\"{fahrenheit}°F = {celsius}°C\")  # 輸出：77°F = 25.0°C\n",
    "\n"
   ]
  },
  {
   "cell_type": "code",
   "execution_count": 3,
   "id": "e4e35beb",
   "metadata": {},
   "outputs": [
    {
     "name": "stdout",
     "output_type": "stream",
     "text": [
      "圓面積：2827.43\n",
      "圓周長：188.50\n"
     ]
    }
   ],
   "source": [
    "import math\n",
    "\n",
    "radius = float(input(\"請輸入圓的半徑：\"))\n",
    "\n",
    "area = math.pi * radius ** 2\n",
    "circumference = 2 * math.pi * radius\n",
    "\n",
    "print(f\"圓面積：{area:.2f}\")\n",
    "print(f\"圓周長：{circumference:.2f}\")\n"
   ]
  },
  {
   "cell_type": "code",
   "execution_count": 4,
   "id": "ce94080f",
   "metadata": {},
   "outputs": [
    {
     "name": "stdout",
     "output_type": "stream",
     "text": [
      "150 磅 = 68.04 公斤\n"
     ]
    }
   ],
   "source": [
    "pounds = 150\n",
    "kilograms = pounds * 0.45359237\n",
    "print(f\"{pounds} 磅 = {kilograms:.2f} 公斤\")\n",
    "\n"
   ]
  }
 ],
 "metadata": {
  "kernelspec": {
   "display_name": "web_crawler",
   "language": "python",
   "name": "python3"
  },
  "language_info": {
   "codemirror_mode": {
    "name": "ipython",
    "version": 3
   },
   "file_extension": ".py",
   "mimetype": "text/x-python",
   "name": "python",
   "nbconvert_exporter": "python",
   "pygments_lexer": "ipython3",
   "version": "3.11.13"
  }
 },
 "nbformat": 4,
 "nbformat_minor": 5
}
